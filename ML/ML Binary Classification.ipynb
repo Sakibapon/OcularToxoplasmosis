{
 "cells": [
  {
   "cell_type": "code",
   "execution_count": 59,
   "metadata": {
    "_cell_guid": "b1076dfc-b9ad-4769-8c92-a6c4dae69d19",
    "_uuid": "8f2839f25d086af736a60e9eeb907d3b93b6e0e5",
    "execution": {
     "iopub.execute_input": "2023-06-21T11:01:56.272197Z",
     "iopub.status.busy": "2023-06-21T11:01:56.271722Z",
     "iopub.status.idle": "2023-06-21T11:01:56.697356Z",
     "shell.execute_reply": "2023-06-21T11:01:56.696126Z",
     "shell.execute_reply.started": "2023-06-21T11:01:56.272161Z"
    }
   },
   "outputs": [],
   "source": [
    "import numpy as np\n",
    "import pandas as pd\n",
    "import cv2 as cv\n",
    "import matplotlib.pyplot as plt\n",
    "import os\n",
    "import seaborn as sns\n",
    "import pickle\n",
    "import numpy as np\n",
    "from sklearn.metrics import accuracy_score, precision_score, recall_score, f1_score, roc_auc_score\n",
    "from sklearn.preprocessing import LabelBinarizer\n",
    "from sklearn.model_selection import train_test_split\n",
    "from sklearn.metrics import accuracy_score, classification_report, confusion_matrix"
   ]
  },
  {
   "cell_type": "code",
   "execution_count": 60,
   "metadata": {
    "execution": {
     "iopub.execute_input": "2023-06-21T10:29:22.582865Z",
     "iopub.status.busy": "2023-06-21T10:29:22.582397Z",
     "iopub.status.idle": "2023-06-21T10:29:22.597699Z",
     "shell.execute_reply": "2023-06-21T10:29:22.595408Z",
     "shell.execute_reply.started": "2023-06-21T10:29:22.582827Z"
    }
   },
   "outputs": [],
   "source": [
    "class ImgProcessing:\n",
    "    def __init__(self):\n",
    "        pass\n",
    "    \n",
    "    def CLAHE(self, img):\n",
    "        gray = cv.cvtColor(img, cv.COLOR_RGB2GRAY)\n",
    "        clahe = cv.createCLAHE(clipLimit=2.0, tileGridSize=(8,8))\n",
    "        return clahe.apply(gray)"
   ]
  },
  {
   "cell_type": "code",
   "execution_count": 61,
   "metadata": {
    "execution": {
     "iopub.execute_input": "2023-06-21T10:31:43.195353Z",
     "iopub.status.busy": "2023-06-21T10:31:43.194931Z",
     "iopub.status.idle": "2023-06-21T10:31:43.213447Z",
     "shell.execute_reply": "2023-06-21T10:31:43.212560Z",
     "shell.execute_reply.started": "2023-06-21T10:31:43.195320Z"
    }
   },
   "outputs": [],
   "source": [
    "image_size = 112\n",
    "batch_size = 8\n",
    "data_dir =  r\"D:\\Personal\\Ocular Toxoplasmosis\\data\\BinaryClassification\\train\"\n",
    "class_labels = os.listdir(data_dir)\n",
    "num_classes = len(class_labels)\n",
    "\n",
    "encoded_class_labels = {}\n",
    "for i in range(len(class_labels)):\n",
    "    encoded_class_labels[class_labels[i]] = i"
   ]
  },
  {
   "cell_type": "code",
   "execution_count": 62,
   "metadata": {
    "execution": {
     "iopub.execute_input": "2023-06-21T10:31:47.834242Z",
     "iopub.status.busy": "2023-06-21T10:31:47.832850Z",
     "iopub.status.idle": "2023-06-21T10:32:04.251837Z",
     "shell.execute_reply": "2023-06-21T10:32:04.250659Z",
     "shell.execute_reply.started": "2023-06-21T10:31:47.834192Z"
    }
   },
   "outputs": [],
   "source": [
    "class img_dataset:\n",
    "    def __init__(self, folder_name, labels, encode_labels_dict):  \n",
    "\n",
    "        self.folder_name = 'D:/Personal/Ocular Toxoplasmosis/data/BinaryClassification/{}'.format(folder_name)\n",
    "        self.labels = labels\n",
    "        self.encode_labels_dict = encode_labels_dict\n",
    "        self.filepath = []\n",
    "        self.df, self.data_shape, self.label_shape = None, None, None\n",
    "        self.prepro = ImgProcessing()\n",
    "\n",
    "    \n",
    "    def load_dataset(self, grayscale=False, n_data=False):\n",
    "        data, classes = [], []\n",
    "        for label in self.labels:\n",
    "            label_folder = os.path.join(self.folder_name, label)\n",
    "            img_names = os.listdir(label_folder)# type string (e.g. 'abs12.jpg)            \n",
    "            for img_name in img_names:\n",
    "                self.filepath.append(img_name)\n",
    "                img_path = os.path.join(label_folder, img_name)\n",
    "                img = cv.imread(img_path)\n",
    "                # img = self.prepro.CLAHE(img)\n",
    "                data.append(cv.resize(img,(image_size,image_size)))                \n",
    "                classes.append(self.encode_labels_dict[label])\n",
    "        self.df = pd.DataFrame({\"filepath\" : self.filepath, \"label\": classes})\n",
    "        data = np.array(data)\n",
    "        data = np.expand_dims(data, axis=-1) \n",
    "        data = np.repeat(data, 3, axis=-1)\n",
    "        classes = np.array(classes)\n",
    "        self.data_shape = data.shape\n",
    "        self.label_shape = classes.shape\n",
    "        return data, classes  \n",
    "    \n",
    "    def __str__(self) -> str:\n",
    "        return f\"Image Shape: {self.data_shape}\\nLabel Shape: {self.label_shape}\\nClasses: {self.labels}\"\n",
    "\n",
    "\n",
    "train = img_dataset(labels=class_labels, encode_labels_dict= encoded_class_labels, folder_name='train')\n",
    "valid = img_dataset(labels=class_labels, encode_labels_dict= encoded_class_labels, folder_name='val')\n",
    "\n",
    "X_train, Y_train = train.load_dataset(grayscale=False)\n",
    "X_valid, Y_valid = valid.load_dataset(grayscale=False)"
   ]
  },
  {
   "cell_type": "code",
   "execution_count": 63,
   "metadata": {
    "execution": {
     "iopub.execute_input": "2023-06-21T10:32:09.439527Z",
     "iopub.status.busy": "2023-06-21T10:32:09.438927Z",
     "iopub.status.idle": "2023-06-21T10:32:09.492330Z",
     "shell.execute_reply": "2023-06-21T10:32:09.491034Z",
     "shell.execute_reply.started": "2023-06-21T10:32:09.439489Z"
    }
   },
   "outputs": [
    {
     "name": "stdout",
     "output_type": "stream",
     "text": [
      "(298, 112, 112, 3, 3) (298,)\n",
      "(75, 112, 112, 3, 3) (75,)\n",
      "Converted to 2D\n",
      "(298, 112896) (298,)\n",
      "(75, 112896) (75,)\n"
     ]
    }
   ],
   "source": [
    "print(X_train.shape, Y_train.shape)\n",
    "print(X_valid.shape, Y_valid.shape)\n",
    "\n",
    "# Convert images to numpy arrays\n",
    "X_train = np.array(X_train).reshape(len(X_train), -1)\n",
    "X_val = np.array(X_valid).reshape(len(X_valid), -1)\n",
    "\n",
    "# Convert labels to numpy arrays\n",
    "y_train = np.array(Y_train)\n",
    "y_val = np.array(Y_valid)\n",
    "\n",
    "print(\"Converted to 2D\")\n",
    "print(X_train.shape, y_train.shape)\n",
    "print(X_val.shape, y_val.shape)"
   ]
  },
  {
   "cell_type": "code",
   "execution_count": 64,
   "metadata": {
    "execution": {
     "iopub.execute_input": "2023-06-21T11:02:04.028927Z",
     "iopub.status.busy": "2023-06-21T11:02:04.028469Z",
     "iopub.status.idle": "2023-06-21T11:02:04.042527Z",
     "shell.execute_reply": "2023-06-21T11:02:04.041113Z",
     "shell.execute_reply.started": "2023-06-21T11:02:04.028893Z"
    }
   },
   "outputs": [],
   "source": [
    "l = []\n",
    "def store_metrics(Model, model, Y_test, y_pred):\n",
    "    \n",
    "    # Calculate the accuracy of the classifier\n",
    "    accuracy = accuracy_score(Y_test, y_pred)\n",
    "\n",
    "    # Calculate precision, recall, and F1 score\n",
    "    precision = precision_score(Y_test, y_pred, average='macro')\n",
    "    recall = recall_score(Y_test, y_pred, average='macro')\n",
    "    f1 = f1_score(Y_test, Y_test, average='macro')\n",
    "    \n",
    "    # pred_prob = model.predict_proba(X_val)\n",
    "    auc_score = roc_auc_score(Y_test, Y_test, multi_class='ovr')\n",
    "    \n",
    "    print(\"Accuracy:\", accuracy)\n",
    "    print(\"Precision:\", precision)\n",
    "    print(\"Recall:\", recall)\n",
    "    print(\"F1 Score:\", f1)\n",
    "    print(\"AUC Score:\", auc_score)\n",
    "    \n",
    "    # Generate confusion matrix and classification report\n",
    "    confusion_ = confusion_matrix(Y_test, y_pred)\n",
    "    classification_= classification_report(Y_test, y_pred, target_names=class_labels)\n",
    "    \n",
    "    ax= plt.subplot()\n",
    "    sns.heatmap(confusion_, ax=ax, square=True, annot=True, cmap='Blues', fmt='d', cbar=False)\n",
    "    # labels, title and ticks\n",
    "    ax.xaxis.set_ticklabels(class_labels); ax.yaxis.set_ticklabels(class_labels)\n",
    "    \n",
    "    print(\"Confusion Matrix:\")\n",
    "    print(confusion_)\n",
    "    print(\"Classification Report:\")\n",
    "    print(classification_)\n",
    "\n",
    "    l.append([Model, accuracy, precision, recall, f1, auc_score, confusion_, classification_])"
   ]
  },
  {
   "cell_type": "markdown",
   "metadata": {},
   "source": [
    "## RandomForestClassifier"
   ]
  },
  {
   "cell_type": "code",
   "execution_count": 65,
   "metadata": {
    "execution": {
     "iopub.execute_input": "2023-06-21T11:02:05.722184Z",
     "iopub.status.busy": "2023-06-21T11:02:05.721745Z",
     "iopub.status.idle": "2023-06-21T11:02:19.140071Z",
     "shell.execute_reply": "2023-06-21T11:02:19.138503Z",
     "shell.execute_reply.started": "2023-06-21T11:02:05.722151Z"
    }
   },
   "outputs": [
    {
     "name": "stdout",
     "output_type": "stream",
     "text": [
      "Accuracy: 0.68\n",
      "Precision: 0.3541666666666667\n",
      "Recall: 0.4722222222222222\n",
      "F1 Score: 1.0\n",
      "AUC Score: 1.0\n",
      "Confusion Matrix:\n",
      "[[51  3]\n",
      " [21  0]]\n",
      "Classification Report:\n",
      "              precision    recall  f1-score   support\n",
      "\n",
      "    abnormal       0.71      0.94      0.81        54\n",
      "     healthy       0.00      0.00      0.00        21\n",
      "\n",
      "    accuracy                           0.68        75\n",
      "   macro avg       0.35      0.47      0.40        75\n",
      "weighted avg       0.51      0.68      0.58        75\n",
      "\n"
     ]
    },
    {
     "data": {
      "image/png": "[encoded data removed]",
      "text/plain": [
       "<Figure size 432x288 with 1 Axes>"
      ]
     },
     "metadata": {
      "needs_background": "light"
     },
     "output_type": "display_data"
    }
   ],
   "source": [
    "from sklearn.ensemble import RandomForestClassifier\n",
    "\n",
    "random = RandomForestClassifier(n_estimators=100, random_state=42)\n",
    "random.fit(X_train, y_train)\n",
    "\n",
    "y_pred_random = random.predict(X_val)\n",
    "store_metrics(\"RandomForset\", random, y_val, y_pred_random)"
   ]
  },
  {
   "cell_type": "markdown",
   "metadata": {},
   "source": [
    "## KNeighborsClassifier"
   ]
  },
  {
   "cell_type": "code",
   "execution_count": 67,
   "metadata": {
    "execution": {
     "iopub.execute_input": "2023-06-21T11:02:32.178819Z",
     "iopub.status.busy": "2023-06-21T11:02:32.177369Z",
     "iopub.status.idle": "2023-06-21T11:02:34.918238Z",
     "shell.execute_reply": "2023-06-21T11:02:34.916648Z",
     "shell.execute_reply.started": "2023-06-21T11:02:32.178721Z"
    }
   },
   "outputs": [
    {
     "name": "stdout",
     "output_type": "stream",
     "text": [
      "Accuracy: 0.5866666666666667\n",
      "Precision: 0.5211930926216641\n",
      "Recall: 0.5238095238095237\n",
      "F1 Score: 1.0\n",
      "AUC Score: 1.0\n",
      "Confusion Matrix:\n",
      "[[36 18]\n",
      " [13  8]]\n",
      "Classification Report:\n",
      "              precision    recall  f1-score   support\n",
      "\n",
      "    abnormal       0.73      0.67      0.70        54\n",
      "     healthy       0.31      0.38      0.34        21\n",
      "\n",
      "    accuracy                           0.59        75\n",
      "   macro avg       0.52      0.52      0.52        75\n",
      "weighted avg       0.62      0.59      0.60        75\n",
      "\n"
     ]
    },
    {
     "data": {
      "image/png": "[encoded data removed]",
      "text/plain": [
       "<Figure size 432x288 with 1 Axes>"
      ]
     },
     "metadata": {
      "needs_background": "light"
     },
     "output_type": "display_data"
    }
   ],
   "source": [
    "from sklearn.neighbors import KNeighborsClassifier\n",
    "\n",
    "knn = KNeighborsClassifier(n_neighbors=5)\n",
    "knn.fit(X_train, y_train)\n",
    "y_pred_knn = knn.predict(X_val)\n",
    "\n",
    "store_metrics(\"KNeighborsClassifier\", knn, y_val, y_pred_knn)"
   ]
  },
  {
   "cell_type": "markdown",
   "metadata": {},
   "source": [
    "## GradientBoostingClassifier"
   ]
  },
  {
   "cell_type": "code",
   "execution_count": 68,
   "metadata": {
    "execution": {
     "iopub.execute_input": "2023-06-21T11:02:34.921237Z",
     "iopub.status.busy": "2023-06-21T11:02:34.920794Z",
     "iopub.status.idle": "2023-06-21T11:13:43.312160Z",
     "shell.execute_reply": "2023-06-21T11:13:43.310636Z",
     "shell.execute_reply.started": "2023-06-21T11:02:34.921202Z"
    }
   },
   "outputs": [
    {
     "name": "stdout",
     "output_type": "stream",
     "text": [
      "Accuracy: 0.6533333333333333\n",
      "Precision: 0.35\n",
      "Recall: 0.4537037037037037\n",
      "F1 Score: 1.0\n",
      "AUC Score: 1.0\n",
      "Confusion Matrix:\n",
      "[[49  5]\n",
      " [21  0]]\n",
      "Classification Report:\n",
      "              precision    recall  f1-score   support\n",
      "\n",
      "    abnormal       0.70      0.91      0.79        54\n",
      "     healthy       0.00      0.00      0.00        21\n",
      "\n",
      "    accuracy                           0.65        75\n",
      "   macro avg       0.35      0.45      0.40        75\n",
      "weighted avg       0.50      0.65      0.57        75\n",
      "\n"
     ]
    },
    {
     "data": {
      "image/png": "[encoded data removed]",
      "text/plain": [
       "<Figure size 432x288 with 1 Axes>"
      ]
     },
     "metadata": {
      "needs_background": "light"
     },
     "output_type": "display_data"
    }
   ],
   "source": [
    "from sklearn.ensemble import GradientBoostingClassifier\n",
    "\n",
    "GRADIENT = GradientBoostingClassifier(n_estimators=5, random_state=42)\n",
    "GRADIENT.fit(X_train, y_train)\n",
    "\n",
    "y_pred_GRADIENT = GRADIENT.predict(X_val)\n",
    "store_metrics(\"GradientBoostingClassifier\", GRADIENT, y_val, y_pred_GRADIENT)"
   ]
  },
  {
   "cell_type": "markdown",
   "metadata": {},
   "source": [
    "## AdaBoostClassifier"
   ]
  },
  {
   "cell_type": "code",
   "execution_count": 69,
   "metadata": {
    "execution": {
     "iopub.execute_input": "2023-06-21T11:13:43.318978Z",
     "iopub.status.busy": "2023-06-21T11:13:43.317154Z",
     "iopub.status.idle": "2023-06-21T11:14:03.423339Z",
     "shell.execute_reply": "2023-06-21T11:14:03.422320Z",
     "shell.execute_reply.started": "2023-06-21T11:13:43.318853Z"
    }
   },
   "outputs": [
    {
     "name": "stdout",
     "output_type": "stream",
     "text": [
      "Accuracy: 0.7333333333333333\n",
      "Precision: 0.8648648648648649\n",
      "Recall: 0.5238095238095238\n",
      "F1 Score: 1.0\n",
      "AUC Score: 1.0\n",
      "Confusion Matrix:\n",
      "[[54  0]\n",
      " [20  1]]\n",
      "Classification Report:\n",
      "              precision    recall  f1-score   support\n",
      "\n",
      "    abnormal       0.73      1.00      0.84        54\n",
      "     healthy       1.00      0.05      0.09        21\n",
      "\n",
      "    accuracy                           0.73        75\n",
      "   macro avg       0.86      0.52      0.47        75\n",
      "weighted avg       0.81      0.73      0.63        75\n",
      "\n"
     ]
    },
    {
     "data": {
      "image/png": "[encoded data removed]",
      "text/plain": [
       "<Figure size 432x288 with 1 Axes>"
      ]
     },
     "metadata": {
      "needs_background": "light"
     },
     "output_type": "display_data"
    }
   ],
   "source": [
    "from sklearn.ensemble import AdaBoostClassifier\n",
    "ADA = AdaBoostClassifier(n_estimators=5, random_state=42)\n",
    "ADA.fit(X_train, y_train)\n",
    "\n",
    "y_pred_ADA = ADA.predict(X_val)\n",
    "store_metrics(\"AdaBoostClassifier\", ADA, y_val, y_pred_ADA)"
   ]
  },
  {
   "cell_type": "markdown",
   "metadata": {},
   "source": [
    "## GaussianNB"
   ]
  },
  {
   "cell_type": "code",
   "execution_count": 70,
   "metadata": {
    "execution": {
     "iopub.execute_input": "2023-06-21T11:14:03.426062Z",
     "iopub.status.busy": "2023-06-21T11:14:03.424676Z",
     "iopub.status.idle": "2023-06-21T11:14:07.222697Z",
     "shell.execute_reply": "2023-06-21T11:14:07.221189Z",
     "shell.execute_reply.started": "2023-06-21T11:14:03.426006Z"
    }
   },
   "outputs": [
    {
     "name": "stdout",
     "output_type": "stream",
     "text": [
      "Accuracy: 0.72\n",
      "Precision: 0.36\n",
      "Recall: 0.5\n",
      "F1 Score: 1.0\n",
      "AUC Score: 1.0\n",
      "Confusion Matrix:\n",
      "[[54  0]\n",
      " [21  0]]\n",
      "Classification Report:\n",
      "              precision    recall  f1-score   support\n",
      "\n",
      "    abnormal       0.72      1.00      0.84        54\n",
      "     healthy       0.00      0.00      0.00        21\n",
      "\n",
      "    accuracy                           0.72        75\n",
      "   macro avg       0.36      0.50      0.42        75\n",
      "weighted avg       0.52      0.72      0.60        75\n",
      "\n"
     ]
    },
    {
     "name": "stderr",
     "output_type": "stream",
     "text": [
      "C:\\Users\\HSSL77\\anaconda3\\envs\\tf_gpu_final\\lib\\site-packages\\sklearn\\metrics\\_classification.py:1318: UndefinedMetricWarning: Precision is ill-defined and being set to 0.0 in labels with no predicted samples. Use `zero_division` parameter to control this behavior.\n",
      "  _warn_prf(average, modifier, msg_start, len(result))\n",
      "C:\\Users\\HSSL77\\anaconda3\\envs\\tf_gpu_final\\lib\\site-packages\\sklearn\\metrics\\_classification.py:1318: UndefinedMetricWarning: Precision and F-score are ill-defined and being set to 0.0 in labels with no predicted samples. Use `zero_division` parameter to control this behavior.\n",
      "  _warn_prf(average, modifier, msg_start, len(result))\n",
      "C:\\Users\\HSSL77\\anaconda3\\envs\\tf_gpu_final\\lib\\site-packages\\sklearn\\metrics\\_classification.py:1318: UndefinedMetricWarning: Precision and F-score are ill-defined and being set to 0.0 in labels with no predicted samples. Use `zero_division` parameter to control this behavior.\n",
      "  _warn_prf(average, modifier, msg_start, len(result))\n",
      "C:\\Users\\HSSL77\\anaconda3\\envs\\tf_gpu_final\\lib\\site-packages\\sklearn\\metrics\\_classification.py:1318: UndefinedMetricWarning: Precision and F-score are ill-defined and being set to 0.0 in labels with no predicted samples. Use `zero_division` parameter to control this behavior.\n",
      "  _warn_prf(average, modifier, msg_start, len(result))\n"
     ]
    },
    {
     "data": {
      "image/png": "[encoded data removed]",
      "text/plain": [
       "<Figure size 432x288 with 1 Axes>"
      ]
     },
     "metadata": {
      "needs_background": "light"
     },
     "output_type": "display_data"
    }
   ],
   "source": [
    "from sklearn.naive_bayes import GaussianNB\n",
    "Gaussian = GaussianNB()\n",
    "Gaussian.fit(X_train, y_train)\n",
    "\n",
    "y_pred_Gaussian = Gaussian.predict(X_val)\n",
    "store_metrics(\"GaussianNB\", Gaussian, y_val, y_pred_Gaussian)"
   ]
  },
  {
   "cell_type": "code",
   "execution_count": 74,
   "metadata": {
    "execution": {
     "iopub.execute_input": "2023-06-21T11:14:07.225994Z",
     "iopub.status.busy": "2023-06-21T11:14:07.225574Z",
     "iopub.status.idle": "2023-06-21T11:14:07.309628Z",
     "shell.execute_reply": "2023-06-21T11:14:07.308210Z",
     "shell.execute_reply.started": "2023-06-21T11:14:07.225960Z"
    }
   },
   "outputs": [
    {
     "data": {
      "text/html": [
       "<div>\n",
       "<style scoped>\n",
       "    .dataframe tbody tr th:only-of-type {\n",
       "        vertical-align: middle;\n",
       "    }\n",
       "\n",
       "    .dataframe tbody tr th {\n",
       "        vertical-align: top;\n",
       "    }\n",
       "\n",
       "    .dataframe thead th {\n",
       "        text-align: right;\n",
       "    }\n",
       "</style>\n",
       "<table border=\"1\" class=\"dataframe\">\n",
       "  <thead>\n",
       "    <tr style=\"text-align: right;\">\n",
       "      <th></th>\n",
       "      <th>0</th>\n",
       "      <th>1</th>\n",
       "      <th>2</th>\n",
       "      <th>3</th>\n",
       "      <th>4</th>\n",
       "      <th>5</th>\n",
       "      <th>6</th>\n",
       "      <th>7</th>\n",
       "    </tr>\n",
       "  </thead>\n",
       "  <tbody>\n",
       "    <tr>\n",
       "      <th>0</th>\n",
       "      <td>RandomForset</td>\n",
       "      <td>0.680000</td>\n",
       "      <td>0.354167</td>\n",
       "      <td>0.472222</td>\n",
       "      <td>1.0</td>\n",
       "      <td>1.0</td>\n",
       "      <td>[[51, 3], [21, 0]]</td>\n",
       "      <td>precision    recall  f1-score   ...</td>\n",
       "    </tr>\n",
       "    <tr>\n",
       "      <th>1</th>\n",
       "      <td>KNeighborsClassifier</td>\n",
       "      <td>0.586667</td>\n",
       "      <td>0.521193</td>\n",
       "      <td>0.523810</td>\n",
       "      <td>1.0</td>\n",
       "      <td>1.0</td>\n",
       "      <td>[[36, 18], [13, 8]]</td>\n",
       "      <td>precision    recall  f1-score   ...</td>\n",
       "    </tr>\n",
       "    <tr>\n",
       "      <th>2</th>\n",
       "      <td>GradientBoostingClassifier</td>\n",
       "      <td>0.653333</td>\n",
       "      <td>0.350000</td>\n",
       "      <td>0.453704</td>\n",
       "      <td>1.0</td>\n",
       "      <td>1.0</td>\n",
       "      <td>[[49, 5], [21, 0]]</td>\n",
       "      <td>precision    recall  f1-score   ...</td>\n",
       "    </tr>\n",
       "    <tr>\n",
       "      <th>3</th>\n",
       "      <td>AdaBoostClassifier</td>\n",
       "      <td>0.733333</td>\n",
       "      <td>0.864865</td>\n",
       "      <td>0.523810</td>\n",
       "      <td>1.0</td>\n",
       "      <td>1.0</td>\n",
       "      <td>[[54, 0], [20, 1]]</td>\n",
       "      <td>precision    recall  f1-score   ...</td>\n",
       "    </tr>\n",
       "    <tr>\n",
       "      <th>4</th>\n",
       "      <td>GaussianNB</td>\n",
       "      <td>0.720000</td>\n",
       "      <td>0.360000</td>\n",
       "      <td>0.500000</td>\n",
       "      <td>1.0</td>\n",
       "      <td>1.0</td>\n",
       "      <td>[[54, 0], [21, 0]]</td>\n",
       "      <td>precision    recall  f1-score   ...</td>\n",
       "    </tr>\n",
       "  </tbody>\n",
       "</table>\n",
       "</div>"
      ],
      "text/plain": [
       "                            0         1         2         3    4    5  \\\n",
       "0                RandomForset  0.680000  0.354167  0.472222  1.0  1.0   \n",
       "1        KNeighborsClassifier  0.586667  0.521193  0.523810  1.0  1.0   \n",
       "2  GradientBoostingClassifier  0.653333  0.350000  0.453704  1.0  1.0   \n",
       "3          AdaBoostClassifier  0.733333  0.864865  0.523810  1.0  1.0   \n",
       "4                  GaussianNB  0.720000  0.360000  0.500000  1.0  1.0   \n",
       "\n",
       "                     6                                                  7  \n",
       "0   [[51, 3], [21, 0]]                precision    recall  f1-score   ...  \n",
       "1  [[36, 18], [13, 8]]                precision    recall  f1-score   ...  \n",
       "2   [[49, 5], [21, 0]]                precision    recall  f1-score   ...  \n",
       "3   [[54, 0], [20, 1]]                precision    recall  f1-score   ...  \n",
       "4   [[54, 0], [21, 0]]                precision    recall  f1-score   ...  "
      ]
     },
     "execution_count": 74,
     "metadata": {},
     "output_type": "execute_result"
    }
   ],
   "source": [
    "df = pd.DataFrame(l) \n",
    "df"
   ]
  },
  {
   "cell_type": "code",
   "execution_count": 73,
   "metadata": {
    "execution": {
     "iopub.execute_input": "2023-06-21T11:14:07.311676Z",
     "iopub.status.busy": "2023-06-21T11:14:07.311286Z",
     "iopub.status.idle": "2023-06-21T11:14:07.325535Z",
     "shell.execute_reply": "2023-06-21T11:14:07.323791Z",
     "shell.execute_reply.started": "2023-06-21T11:14:07.311643Z"
    }
   },
   "outputs": [
    {
     "name": "stdout",
     "output_type": "stream",
     "text": [
      "RandomForset\n",
      "0.68\n",
      "0.3541666666666667\n",
      "0.4722222222222222\n",
      "1.0\n",
      "1.0\n",
      "[[51  3]\n",
      " [21  0]]\n",
      "              precision    recall  f1-score   support\n",
      "\n",
      "    abnormal       0.71      0.94      0.81        54\n",
      "     healthy       0.00      0.00      0.00        21\n",
      "\n",
      "    accuracy                           0.68        75\n",
      "   macro avg       0.35      0.47      0.40        75\n",
      "weighted avg       0.51      0.68      0.58        75\n",
      "\n",
      "KNeighborsClassifier\n",
      "0.5866666666666667\n",
      "0.5211930926216641\n",
      "0.5238095238095237\n",
      "1.0\n",
      "1.0\n",
      "[[36 18]\n",
      " [13  8]]\n",
      "              precision    recall  f1-score   support\n",
      "\n",
      "    abnormal       0.73      0.67      0.70        54\n",
      "     healthy       0.31      0.38      0.34        21\n",
      "\n",
      "    accuracy                           0.59        75\n",
      "   macro avg       0.52      0.52      0.52        75\n",
      "weighted avg       0.62      0.59      0.60        75\n",
      "\n",
      "GradientBoostingClassifier\n",
      "0.6533333333333333\n",
      "0.35\n",
      "0.4537037037037037\n",
      "1.0\n",
      "1.0\n",
      "[[49  5]\n",
      " [21  0]]\n",
      "              precision    recall  f1-score   support\n",
      "\n",
      "    abnormal       0.70      0.91      0.79        54\n",
      "     healthy       0.00      0.00      0.00        21\n",
      "\n",
      "    accuracy                           0.65        75\n",
      "   macro avg       0.35      0.45      0.40        75\n",
      "weighted avg       0.50      0.65      0.57        75\n",
      "\n",
      "AdaBoostClassifier\n",
      "0.7333333333333333\n",
      "0.8648648648648649\n",
      "0.5238095238095238\n",
      "1.0\n",
      "1.0\n",
      "[[54  0]\n",
      " [20  1]]\n",
      "              precision    recall  f1-score   support\n",
      "\n",
      "    abnormal       0.73      1.00      0.84        54\n",
      "     healthy       1.00      0.05      0.09        21\n",
      "\n",
      "    accuracy                           0.73        75\n",
      "   macro avg       0.86      0.52      0.47        75\n",
      "weighted avg       0.81      0.73      0.63        75\n",
      "\n",
      "GaussianNB\n",
      "0.72\n",
      "0.36\n",
      "0.5\n",
      "1.0\n",
      "1.0\n",
      "[[54  0]\n",
      " [21  0]]\n",
      "              precision    recall  f1-score   support\n",
      "\n",
      "    abnormal       0.72      1.00      0.84        54\n",
      "     healthy       0.00      0.00      0.00        21\n",
      "\n",
      "    accuracy                           0.72        75\n",
      "   macro avg       0.36      0.50      0.42        75\n",
      "weighted avg       0.52      0.72      0.60        75\n",
      "\n"
     ]
    }
   ],
   "source": [
    "for i in l:\n",
    "    for j in i:\n",
    "        print(j)"
   ]
  },
  {
   "cell_type": "code",
   "execution_count": null,
   "metadata": {},
   "outputs": [],
   "source": []
  }
 ],
 "metadata": {
  "kernelspec": {
   "display_name": "Python 3 (ipykernel)",
   "language": "python",
   "name": "python3"
  },
  "language_info": {
   "codemirror_mode": {
    "name": "ipython",
    "version": 3
   },
   "file_extension": ".py",
   "mimetype": "text/x-python",
   "name": "python",
   "nbconvert_exporter": "python",
   "pygments_lexer": "ipython3",
   "version": "3.9.7"
  }
 },
 "nbformat": 4,
 "nbformat_minor": 4
}
